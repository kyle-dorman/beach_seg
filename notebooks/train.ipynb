{
 "cells": [
  {
   "cell_type": "code",
   "execution_count": null,
   "id": "4381a62b",
   "metadata": {},
   "outputs": [],
   "source": [
    "from pathlib import Path\n",
    "\n",
    "import numpy as np\n",
    "import matplotlib.pyplot as plt\n",
    "from matplotlib import colors\n",
    "from matplotlib import pyplot as plt\n",
    "import geopandas as gpd\n",
    "import rasterio\n",
    "\n",
    "from src.geo_util import (\n",
    "    get_masks, \n",
    "    infer_date, \n",
    "    group_images_by_date, \n",
    "    compute_raster_extent, \n",
    "    load_and_merge_masks, \n",
    "    rasterize_gdf,\n",
    "    merged_no_data_mask,\n",
    "    extract_linestring,\n",
    "    tif_image,\n",
    "    plot_mask,\n",
    "    plot_line,\n",
    "    plot_crops,\n",
    "    merge_tifs,\n",
    "    create_per_day_crops,\n",
    ")\n",
    "from src.ml_util import generate_square_crops_along_line\n",
    "from omegaconf import DictConfig, OmegaConf\n",
    "from src.config import BeachSegConfig\n",
    "from src.data import BeachSegDataModule, torch_apply_mask_rgb"
   ]
  },
  {
   "cell_type": "code",
   "execution_count": null,
   "id": "4d14ac02",
   "metadata": {},
   "outputs": [],
   "source": [
    "base_path = Path(\"/Users/kyledorman/data/BorderField/\")\n",
    "classification_dir = base_path / \"Classifications\"\n",
    "shp_dir = base_path / \"Lines\"\n",
    "    \n",
    "crop_size = 224\n",
    "buffer_factor = 0.125\n",
    "buffer_px = int(crop_size * buffer_factor)\n",
    "mask_dir = base_path / \"Masks\"\n",
    "img_paths = sorted(list(base_path.glob(\"SatelliteImagery/*/*.tif\")))"
   ]
  },
  {
   "cell_type": "code",
   "execution_count": null,
   "id": "269a954a",
   "metadata": {},
   "outputs": [],
   "source": [
    "# Masks and dates\n",
    "veg_masks = get_masks(mask_dir, \"Mask_*.shp\")\n",
    "water_masks = get_masks(mask_dir, \"WaterMask_*.shp\")\n",
    "mask_date = infer_date(veg_masks + water_masks)\n",
    "\n",
    "len(veg_masks), len(water_masks), mask_date"
   ]
  },
  {
   "cell_type": "code",
   "execution_count": null,
   "id": "8e4ae3ad",
   "metadata": {},
   "outputs": [],
   "source": [
    "# Group images\n",
    "groups = group_images_by_date(img_paths)\n",
    "ref_imgs = groups.pop(mask_date, [])\n",
    "\n",
    "len(ref_imgs), len(groups)"
   ]
  },
  {
   "cell_type": "code",
   "execution_count": null,
   "id": "d493de3b",
   "metadata": {},
   "outputs": [],
   "source": [
    "# Compute extent & raster masks\n",
    "out_transform, out_shape, CRS = compute_raster_extent(ref_imgs + sum(groups.values(), []))\n",
    "\n",
    "out_shape, CRS"
   ]
  },
  {
   "cell_type": "code",
   "execution_count": null,
   "id": "9a7750ab",
   "metadata": {},
   "outputs": [],
   "source": [
    "veg_gdf = load_and_merge_masks(veg_masks)\n",
    "veg_mask = rasterize_gdf(veg_gdf, out_shape, out_transform) == 1\n",
    "water_gdf = load_and_merge_masks(water_masks)\n",
    "water_mask = rasterize_gdf(water_gdf, out_shape, out_transform) == 1\n",
    "full_no_data = merged_no_data_mask(water_mask, veg_mask)\n",
    "sand_mask = ~(full_no_data | water_mask | veg_mask)\n",
    "\n",
    "merged_mask = np.zeros(veg_mask.shape, dtype=np.uint8)\n",
    "merged_mask[water_mask] = 1\n",
    "merged_mask[veg_mask] = 2\n",
    "merged_mask[sand_mask] = 3\n",
    "\n",
    "fig, axes = plt.subplots(1, 4, figsize=(5, 5))\n",
    "for ax in axes:\n",
    "    ax.axis('off')\n",
    "axes[0].imshow(water_mask)\n",
    "axes[1].imshow(veg_mask)\n",
    "axes[2].imshow(full_no_data)\n",
    "axes[3].imshow(sand_mask)"
   ]
  },
  {
   "cell_type": "code",
   "execution_count": null,
   "id": "0e7437d6",
   "metadata": {},
   "outputs": [],
   "source": [
    "# Extract lines and generate crops\n",
    "water_line = extract_linestring(water_mask, full_no_data)\n",
    "assert water_line is not None\n",
    "veg_line = extract_linestring(veg_mask, full_no_data)\n",
    "assert veg_line is not None\n",
    "prompt_crops = generate_square_crops_along_line(water_line, crop_size, 0)"
   ]
  },
  {
   "cell_type": "code",
   "execution_count": null,
   "id": "eae211af",
   "metadata": {},
   "outputs": [],
   "source": [
    "merged_img, merged_img_nodata = merge_tifs(ref_imgs, out_shape, out_transform, CRS)"
   ]
  },
  {
   "cell_type": "code",
   "execution_count": null,
   "id": "4ff9c605-a5d4-40de-9128-7196dd92bc95",
   "metadata": {},
   "outputs": [],
   "source": [
    "fig, ax = plt.subplots(1, 1, figsize=(5, 16))\n",
    "\n",
    "ax.imshow(merged_img)"
   ]
  },
  {
   "cell_type": "code",
   "execution_count": null,
   "id": "2679724a",
   "metadata": {},
   "outputs": [],
   "source": [
    "fig, ax = plt.subplots(1, 1, figsize=(5, 16))\n",
    "\n",
    "ax.imshow(merged_img)\n",
    "plot_mask(veg_mask, 'teal', 0.3, ax)\n",
    "\n",
    "plot_mask(water_mask, 'hotpink', 0.3, ax)\n",
    "\n",
    "plot_line(water_line, 'blue', ax)\n",
    "plot_line(veg_line, 'green', ax)\n",
    "\n",
    "plot_crops(prompt_crops, 'red', ax)\n",
    "        \n",
    "ax.axis('off')\n",
    "fig.tight_layout()"
   ]
  },
  {
   "cell_type": "code",
   "execution_count": null,
   "id": "6877e9d5-0df1-4e45-b67a-f2c01d9b73c6",
   "metadata": {},
   "outputs": [],
   "source": [
    "p_imgs, p_masks, p_nodata = create_per_day_crops(prompt_crops, merged_img, merged_img_nodata, merged_mask, crop_size)\n",
    "count = len(p_imgs)\n",
    "keep = [i for i, nd in enumerate(p_nodata) if ~np.all(nd)]\n",
    "p_imgs = [p_imgs[i] for i in keep]\n",
    "p_masks = [p_masks[i] for i in keep]\n",
    "p_nodata = [p_nodata[i] for i in keep]\n",
    "\n",
    "len(keep), count"
   ]
  },
  {
   "cell_type": "code",
   "execution_count": null,
   "id": "63eeed15-1d74-4b04-bcd3-2f3c44bff343",
   "metadata": {
    "scrolled": true
   },
   "outputs": [],
   "source": [
    "cols = 5\n",
    "rows = len(p_imgs) // cols + int(len(p_imgs) % cols > 0)\n",
    "\n",
    "fig, axes = plt.subplots(nrows=rows, ncols=cols, figsize=(cols * 4, rows * 4))\n",
    "    \n",
    "for idx, ax in zip(range(len(p_imgs)), axes.flatten()):\n",
    "    ax.axis('off')\n",
    "    \n",
    "    img = p_imgs[idx]    \n",
    "    ax.imshow(img)\n",
    "    \n",
    "    plot_mask(p_masks[idx] == 1, 'hotpink', 0.6, ax)\n",
    "    plot_mask(p_masks[idx] == 2, 'teal', 0.6, ax)\n",
    "\n",
    "fig.tight_layout()\n",
    "plt.show()"
   ]
  },
  {
   "cell_type": "code",
   "execution_count": null,
   "id": "cc4fd6c6-491e-42ef-8155-c868b30f9fea",
   "metadata": {},
   "outputs": [],
   "source": [
    "base_conf = OmegaConf.structured(BeachSegConfig)\n",
    "base_conf.workers = 0\n",
    "\n",
    "dm = BeachSegDataModule(base_conf)\n",
    "dm.setup(\"train\")\n",
    "dl = dm.train_dataloader()\n",
    "for batch in iter(dl):\n",
    "    break\n",
    "    "
   ]
  },
  {
   "cell_type": "code",
   "execution_count": null,
   "id": "683454a6-6e96-4c6f-be08-0f2e30721826",
   "metadata": {},
   "outputs": [],
   "source": [
    "fig, axes = plt.subplots(2, 2, figsize=(5, 5))\n",
    "for ax in axes.flatten():\n",
    "    ax.axis('off')\n",
    "\n",
    "bv = dm.aug(batch)\n",
    "bt = dm.train_aug(batch)\n",
    "\n",
    "img = dm.denormalize(bv[\"image\"])[0].detach().cpu().numpy().transpose((1, 2, 0)).clip(0, 1)\n",
    "axes[0, 0].imshow(img)\n",
    "\n",
    "mask = torch_randomize_mask_rgb(bv[\"mask\"])[0].detach().cpu().numpy().transpose((1, 2, 0)).clip(0, 1)\n",
    "axes[0, 1].imshow(mask)\n",
    "\n",
    "img = dm.denormalize(bt[\"image\"])[0].detach().cpu().numpy().transpose((1, 2, 0)).clip(0, 1)\n",
    "axes[1, 0].imshow(img)\n",
    "\n",
    "mask = torch_randomize_mask_rgb(bt[\"mask\"])[0].detach().cpu().numpy().transpose((1, 2, 0)).clip(0, 1)\n",
    "_ = axes[1, 1].imshow(mask)\n",
    "\n",
    "fig.tight_layout()"
   ]
  },
  {
   "cell_type": "code",
   "execution_count": null,
   "id": "b70c513d-988b-481a-afc4-4738a9f9bbf7",
   "metadata": {},
   "outputs": [],
   "source": [
    "def build_palette(num_labels: int):\n",
    "    base = int(num_labels ** (1 / 3)) + 1\n",
    "    margin = 256 // base\n",
    "\n",
    "    # we assume that class_idx 0 is the background which is mapped to black\n",
    "    color_list = [(0, 0, 0)]\n",
    "    for location in range(num_labels):\n",
    "        num_seq_r = location // base**2\n",
    "        num_seq_g = (location % base**2) // base\n",
    "        num_seq_b = location % base\n",
    "\n",
    "        R = 255 - num_seq_r * margin\n",
    "        G = 255 - num_seq_g * margin\n",
    "        B = 255 - num_seq_b * margin\n",
    "\n",
    "        color_list.append((R, G, B))\n",
    "\n",
    "    return color_list\n",
    "\n",
    "import torch\n",
    "torch.tensor(build_palette(3)).shape"
   ]
  },
  {
   "cell_type": "code",
   "execution_count": null,
   "id": "70830819-2b64-4f37-952c-b141e7b472fb",
   "metadata": {},
   "outputs": [],
   "source": []
  }
 ],
 "metadata": {
  "kernelspec": {
   "display_name": "Python 3 (ipykernel)",
   "language": "python",
   "name": "python3"
  },
  "language_info": {
   "codemirror_mode": {
    "name": "ipython",
    "version": 3
   },
   "file_extension": ".py",
   "mimetype": "text/x-python",
   "name": "python",
   "nbconvert_exporter": "python",
   "pygments_lexer": "ipython3",
   "version": "3.12.11"
  }
 },
 "nbformat": 4,
 "nbformat_minor": 5
}
